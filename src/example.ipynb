{
 "cells": [
  {
   "cell_type": "code",
   "execution_count": 23,
   "metadata": {},
   "outputs": [],
   "source": [
    "import pandas as pd\n",
    "import networkx as nx\n",
    "import matplotlib.pyplot as plt\n",
    "from networkx.classes.function import path_weight\n",
    "from tqdm import tqdm"
   ]
  },
  {
   "cell_type": "code",
   "execution_count": 3,
   "metadata": {},
   "outputs": [
    {
     "data": {
      "image/png": "[encoded data removed]",
      "text/plain": [
       "<Figure size 640x480 with 1 Axes>"
      ]
     },
     "metadata": {},
     "output_type": "display_data"
    }
   ],
   "source": [
    "#  Exemplo de grafo simples\n",
    "\n",
    "# Criação do grafo\n",
    "G = nx.Graph()\n",
    "\n",
    "# Adiciona nós\n",
    "G.add_node(1)\n",
    "G.add_node(2)\n",
    "G.add_node(3)\n",
    "\n",
    "# Adiciona arestas entre os nós\n",
    "G.add_edge(1, 2)\n",
    "G.add_edge(1, 3)\n",
    "G.add_edge(2, 3)\n",
    "\n",
    "# Desenho do grafo\n",
    "nx.draw(G, with_labels=True, node_color=\"skyblue\", node_size=500, font_size=16, font_weight=\"bold\", edge_color=\"gray\")\n",
    "plt.show()\n"
   ]
  },
  {
   "cell_type": "code",
   "execution_count": 4,
   "metadata": {},
   "outputs": [],
   "source": [
    "#  função criada pelo timber\n",
    "\n",
    "\n",
    "def create_graph(transports):\n",
    "    graph = {}\n",
    "\n",
    "    # Creating the graph with the list of transports\n",
    "    for i,transport in tqdm(transports.iterrows()):\n",
    "        id_emp_orig = transport['node_src']\n",
    "        id_emp_dest = transport['node_dest']\n",
    "\n",
    "        volume = transport['vol']\n",
    "\n",
    "        # Graph is a dict (source) -> (destination, weight)\n",
    "        if graph.get(id_emp_orig) is None:\n",
    "            # if source is not in the graph we need to map it as source to the destination\n",
    "            graph[id_emp_orig] = {id_emp_dest: {'weight': volume }}\n",
    "        else:\n",
    "            # if source is already in the graph\n",
    "            # 1. new destination from that source: create the edge\n",
    "            # 2. source already mapped to destination: increase the volume in that edge\n",
    "            if graph[id_emp_orig].get(id_emp_dest) is None:\n",
    "                graph[id_emp_orig][id_emp_dest] = {'weight': volume }\n",
    "            else:\n",
    "                graph[id_emp_orig][id_emp_dest]['weight'] += volume\n",
    "\n",
    "    # In this context we want to maximize paths over the volume\n",
    "    # Since most functions minimizes over the weight of the edges,\n",
    "    # we need to invert the relation\n",
    "    for source, targets in graph.items():\n",
    "        for target, volume in targets.items():\n",
    "            graph[source][target]['weight'] = -1 * volume['weight']\n",
    "\n",
    "    return nx.DiGraph(graph)"
   ]
  },
  {
   "cell_type": "code",
   "execution_count": 5,
   "metadata": {},
   "outputs": [
    {
     "name": "stderr",
     "output_type": "stream",
     "text": [
      "C:\\Users\\jaime\\AppData\\Local\\Temp\\ipykernel_16496\\2878475265.py:1: DtypeWarning: Columns (4,18) have mixed types. Specify dtype option on import or set low_memory=False.\n",
      "  transportes_junho = pd.read_csv('./df_06.csv')\n"
     ]
    }
   ],
   "source": [
    "transportes_junho = pd.read_csv('./df_06.csv')"
   ]
  },
  {
   "cell_type": "code",
   "execution_count": 6,
   "metadata": {},
   "outputs": [
    {
     "data": {
      "text/html": [
       "<div>\n",
       "<style scoped>\n",
       "    .dataframe tbody tr th:only-of-type {\n",
       "        vertical-align: middle;\n",
       "    }\n",
       "\n",
       "    .dataframe tbody tr th {\n",
       "        vertical-align: top;\n",
       "    }\n",
       "\n",
       "    .dataframe thead th {\n",
       "        text-align: right;\n",
       "    }\n",
       "</style>\n",
       "<table border=\"1\" class=\"dataframe\">\n",
       "  <thead>\n",
       "    <tr style=\"text-align: right;\">\n",
       "      <th></th>\n",
       "      <th>Unnamed: 0.1</th>\n",
       "      <th>index</th>\n",
       "      <th>Unnamed: 0</th>\n",
       "      <th>Codigo</th>\n",
       "      <th>Registro</th>\n",
       "      <th>TpRegistro</th>\n",
       "      <th>OrigemID</th>\n",
       "      <th>NomeOrigem</th>\n",
       "      <th>CPF_CNPJ_Rem</th>\n",
       "      <th>CTFOrigem</th>\n",
       "      <th>...</th>\n",
       "      <th>NomePopular</th>\n",
       "      <th>NomeCientifico</th>\n",
       "      <th>Unidade</th>\n",
       "      <th>Volume</th>\n",
       "      <th>DtEmissao</th>\n",
       "      <th>Ano</th>\n",
       "      <th>Status</th>\n",
       "      <th>NomePopularAgregado</th>\n",
       "      <th>datetimeDtEmissao</th>\n",
       "      <th>ID</th>\n",
       "    </tr>\n",
       "  </thead>\n",
       "  <tbody>\n",
       "    <tr>\n",
       "      <th>0</th>\n",
       "      <td>66</td>\n",
       "      <td>260</td>\n",
       "      <td>260</td>\n",
       "      <td>3415558397763288</td>\n",
       "      <td>17490451</td>\n",
       "      <td>DOF</td>\n",
       "      <td>PTO-72559586000130</td>\n",
       "      <td>PRAIANA MATERIAIS DE CONSTRUÇAO LTDA</td>\n",
       "      <td>72559586000130</td>\n",
       "      <td>1586031</td>\n",
       "      <td>...</td>\n",
       "      <td>Cambarárosa</td>\n",
       "      <td>Qualeaparaensis</td>\n",
       "      <td>M3</td>\n",
       "      <td>0.2925</td>\n",
       "      <td>06/03/2017</td>\n",
       "      <td>2017</td>\n",
       "      <td>Emitido</td>\n",
       "      <td>Mandioqueiro</td>\n",
       "      <td>2017-06-03</td>\n",
       "      <td>66</td>\n",
       "    </tr>\n",
       "    <tr>\n",
       "      <th>1</th>\n",
       "      <td>82</td>\n",
       "      <td>330</td>\n",
       "      <td>330</td>\n",
       "      <td>2649555542995653</td>\n",
       "      <td>17999737</td>\n",
       "      <td>DOF</td>\n",
       "      <td>PTO-75274423002738</td>\n",
       "      <td>COMERCIAL IVAIPORÃ LTDA</td>\n",
       "      <td>75274423002738</td>\n",
       "      <td>5391410</td>\n",
       "      <td>...</td>\n",
       "      <td>Cambarápreto</td>\n",
       "      <td>Qualeaalbiflora</td>\n",
       "      <td>M3</td>\n",
       "      <td>0.0182</td>\n",
       "      <td>26/06/2017</td>\n",
       "      <td>2017</td>\n",
       "      <td>Emitido</td>\n",
       "      <td>Mandioqueiro</td>\n",
       "      <td>2017-06-26</td>\n",
       "      <td>82</td>\n",
       "    </tr>\n",
       "    <tr>\n",
       "      <th>2</th>\n",
       "      <td>97</td>\n",
       "      <td>380</td>\n",
       "      <td>380</td>\n",
       "      <td>7498553285396353</td>\n",
       "      <td>17947129</td>\n",
       "      <td>DOF</td>\n",
       "      <td>PTO-01079926000187</td>\n",
       "      <td>MATELLI MATERIAIS DE CONSTRUÇÃO LTDA - ME</td>\n",
       "      <td>1079926000187</td>\n",
       "      <td>29249</td>\n",
       "      <td>...</td>\n",
       "      <td>Cambarápreto</td>\n",
       "      <td>Qualeaalbiflora</td>\n",
       "      <td>M3</td>\n",
       "      <td>0.0187</td>\n",
       "      <td>14/06/2017</td>\n",
       "      <td>2017</td>\n",
       "      <td>Emitido</td>\n",
       "      <td>Mandioqueiro</td>\n",
       "      <td>2017-06-14</td>\n",
       "      <td>97</td>\n",
       "    </tr>\n",
       "    <tr>\n",
       "      <th>3</th>\n",
       "      <td>98</td>\n",
       "      <td>382</td>\n",
       "      <td>382</td>\n",
       "      <td>4697439386861433</td>\n",
       "      <td>17983686</td>\n",
       "      <td>DOF</td>\n",
       "      <td>PTO-77172161000197</td>\n",
       "      <td>DEPOSITO DE MATERIAIS PARA CONSTRUÇÃO NICHELE ...</td>\n",
       "      <td>77172161000197</td>\n",
       "      <td>47699</td>\n",
       "      <td>...</td>\n",
       "      <td>Cambará</td>\n",
       "      <td>Qualeaspp</td>\n",
       "      <td>M3</td>\n",
       "      <td>0.3750</td>\n",
       "      <td>22/06/2017</td>\n",
       "      <td>2017</td>\n",
       "      <td>Emitido</td>\n",
       "      <td>Mandioqueiro</td>\n",
       "      <td>2017-06-22</td>\n",
       "      <td>98</td>\n",
       "    </tr>\n",
       "    <tr>\n",
       "      <th>4</th>\n",
       "      <td>101</td>\n",
       "      <td>400</td>\n",
       "      <td>400</td>\n",
       "      <td>4699187417844317</td>\n",
       "      <td>17951368</td>\n",
       "      <td>DOF</td>\n",
       "      <td>PTO-85491520000105</td>\n",
       "      <td>MATERIAIS DE CONST.STA CLAUDIA LTDA</td>\n",
       "      <td>85491520000105</td>\n",
       "      <td>1285661</td>\n",
       "      <td>...</td>\n",
       "      <td>Cambarápreto</td>\n",
       "      <td>Qualeaalbiflora</td>\n",
       "      <td>M3</td>\n",
       "      <td>0.2330</td>\n",
       "      <td>14/06/2017</td>\n",
       "      <td>2017</td>\n",
       "      <td>Emitido</td>\n",
       "      <td>Mandioqueiro</td>\n",
       "      <td>2017-06-14</td>\n",
       "      <td>101</td>\n",
       "    </tr>\n",
       "  </tbody>\n",
       "</table>\n",
       "<p>5 rows × 39 columns</p>\n",
       "</div>"
      ],
      "text/plain": [
       "   Unnamed: 0.1  index  Unnamed: 0            Codigo  Registro TpRegistro  \\\n",
       "0            66    260         260  3415558397763288  17490451        DOF   \n",
       "1            82    330         330  2649555542995653  17999737        DOF   \n",
       "2            97    380         380  7498553285396353  17947129        DOF   \n",
       "3            98    382         382  4697439386861433  17983686        DOF   \n",
       "4           101    400         400  4699187417844317  17951368        DOF   \n",
       "\n",
       "             OrigemID                                         NomeOrigem  \\\n",
       "0  PTO-72559586000130               PRAIANA MATERIAIS DE CONSTRUÇAO LTDA   \n",
       "1  PTO-75274423002738                            COMERCIAL IVAIPORÃ LTDA   \n",
       "2  PTO-01079926000187          MATELLI MATERIAIS DE CONSTRUÇÃO LTDA - ME   \n",
       "3  PTO-77172161000197  DEPOSITO DE MATERIAIS PARA CONSTRUÇÃO NICHELE ...   \n",
       "4  PTO-85491520000105                MATERIAIS DE CONST.STA CLAUDIA LTDA   \n",
       "\n",
       "     CPF_CNPJ_Rem  CTFOrigem  ...   NomePopular   NomeCientifico Unidade  \\\n",
       "0  72559586000130    1586031  ...   Cambarárosa  Qualeaparaensis      M3   \n",
       "1  75274423002738    5391410  ...  Cambarápreto  Qualeaalbiflora      M3   \n",
       "2   1079926000187      29249  ...  Cambarápreto  Qualeaalbiflora      M3   \n",
       "3  77172161000197      47699  ...       Cambará        Qualeaspp      M3   \n",
       "4  85491520000105    1285661  ...  Cambarápreto  Qualeaalbiflora      M3   \n",
       "\n",
       "   Volume   DtEmissao   Ano   Status NomePopularAgregado datetimeDtEmissao  \\\n",
       "0  0.2925  06/03/2017  2017  Emitido        Mandioqueiro        2017-06-03   \n",
       "1  0.0182  26/06/2017  2017  Emitido        Mandioqueiro        2017-06-26   \n",
       "2  0.0187  14/06/2017  2017  Emitido        Mandioqueiro        2017-06-14   \n",
       "3  0.3750  22/06/2017  2017  Emitido        Mandioqueiro        2017-06-22   \n",
       "4  0.2330  14/06/2017  2017  Emitido        Mandioqueiro        2017-06-14   \n",
       "\n",
       "    ID  \n",
       "0   66  \n",
       "1   82  \n",
       "2   97  \n",
       "3   98  \n",
       "4  101  \n",
       "\n",
       "[5 rows x 39 columns]"
      ]
     },
     "execution_count": 6,
     "metadata": {},
     "output_type": "execute_result"
    }
   ],
   "source": [
    "transportes_junho.head()"
   ]
  },
  {
   "cell_type": "code",
   "execution_count": 7,
   "metadata": {},
   "outputs": [
    {
     "data": {
      "text/plain": [
       "TpDes\n",
       "FINAL        18157\n",
       "PTO_IBAMA     8381\n",
       "Name: count, dtype: int64"
      ]
     },
     "execution_count": 7,
     "metadata": {},
     "output_type": "execute_result"
    }
   ],
   "source": [
    "transportes_junho['TpDes'].value_counts()"
   ]
  },
  {
   "cell_type": "code",
   "execution_count": 8,
   "metadata": {},
   "outputs": [
    {
     "data": {
      "text/plain": [
       "TpRem\n",
       "PTO_IBAMA    26072\n",
       "MANEJO         466\n",
       "Name: count, dtype: int64"
      ]
     },
     "execution_count": 8,
     "metadata": {},
     "output_type": "execute_result"
    }
   ],
   "source": [
    "transportes_junho['TpRem'].value_counts()"
   ]
  },
  {
   "cell_type": "code",
   "execution_count": 9,
   "metadata": {},
   "outputs": [
    {
     "data": {
      "text/plain": [
       "CPF_CNPJ_Rem\n",
       "657233170         1\n",
       "2546223216        1\n",
       "2616690950        9\n",
       "2737218870        2\n",
       "3385469953        5\n",
       "                 ..\n",
       "96707302000173    1\n",
       "97138077000164    1\n",
       "97297477000112    1\n",
       "97520331000275    1\n",
       "97520331000356    1\n",
       "Length: 2121, dtype: int64"
      ]
     },
     "execution_count": 9,
     "metadata": {},
     "output_type": "execute_result"
    }
   ],
   "source": [
    "contagem_tipos_rem = transportes_junho.groupby('CPF_CNPJ_Rem').size()\n",
    "contagem_tipos_rem"
   ]
  },
  {
   "cell_type": "code",
   "execution_count": 10,
   "metadata": {},
   "outputs": [
    {
     "data": {
      "text/plain": [
       "OrigemID\n",
       "MANEJO-00657233170(-12.922,-61.459)      1\n",
       "MANEJO-01801325000136(-9.577,-65.888)    1\n",
       "MANEJO-02546223216(-9.459,-66.024)       1\n",
       "MANEJO-02616690950(-9.678,-64.828)       9\n",
       "MANEJO-02737218870(-8.626,-63.125)       2\n",
       "                                        ..\n",
       "PTO-96707302000173                       1\n",
       "PTO-97138077000164                       1\n",
       "PTO-97297477000112                       1\n",
       "PTO-97520331000275                       1\n",
       "PTO-97520331000356                       1\n",
       "Length: 2178, dtype: int64"
      ]
     },
     "execution_count": 10,
     "metadata": {},
     "output_type": "execute_result"
    }
   ],
   "source": [
    "contagem_tipos_rem_id = transportes_junho.groupby('OrigemID').size()\n",
    "contagem_tipos_rem_id "
   ]
  },
  {
   "cell_type": "code",
   "execution_count": 11,
   "metadata": {},
   "outputs": [
    {
     "data": {
      "text/plain": [
       "CPF_CNPJ_Des\n",
       "17285470       1\n",
       "22619100       3\n",
       "40582086       1\n",
       "60389133       1\n",
       "64602834       1\n",
       "              ..\n",
       "99934825449    1\n",
       "99935520897    1\n",
       "99948400372    2\n",
       "99957418815    1\n",
       "9998099897     1\n",
       "Length: 15277, dtype: int64"
      ]
     },
     "execution_count": 11,
     "metadata": {},
     "output_type": "execute_result"
    }
   ],
   "source": [
    "contagem_tipos_des = transportes_junho.groupby('CPF_CNPJ_Des').size()\n",
    "contagem_tipos_des "
   ]
  },
  {
   "cell_type": "code",
   "execution_count": 12,
   "metadata": {},
   "outputs": [
    {
     "data": {
      "text/plain": [
       "DestinoID\n",
       "FINAL-00015915840    1\n",
       "FINAL-00016478908    2\n",
       "FINAL-00017285470    1\n",
       "FINAL-00022434909    1\n",
       "FINAL-00022619100    3\n",
       "                    ..\n",
       "PTO-98834126904      1\n",
       "PTO-99146746820      3\n",
       "PTO-99453606804      1\n",
       "PTO-99588439868      1\n",
       "PTO-99848406891      1\n",
       "Length: 15018, dtype: int64"
      ]
     },
     "execution_count": 12,
     "metadata": {},
     "output_type": "execute_result"
    }
   ],
   "source": [
    "contagem_tipos_des_id = transportes_junho.groupby('DestinoID').size()\n",
    "contagem_tipos_des_id"
   ]
  },
  {
   "cell_type": "markdown",
   "metadata": {},
   "source": [
    "Temos mais IDs de origem do que CNPJs de origem.\n",
    "Já no caso dos CPF/CNPj dos destinatários, temos o mesmo número. "
   ]
  },
  {
   "cell_type": "code",
   "execution_count": 13,
   "metadata": {},
   "outputs": [
    {
     "data": {
      "text/plain": [
       "Index(['Unnamed: 0.1', 'index', 'Unnamed: 0', 'Codigo', 'Registro',\n",
       "       'TpRegistro', 'OrigemID', 'NomeOrigem', 'CPF_CNPJ_Rem', 'CTFOrigem',\n",
       "       'EntJuridica_Rem', 'TpRem', 'UFOrigem', 'MunOrigem', 'LatOrigem',\n",
       "       'LongOrigem', 'DestinoID', 'NomeDestino', 'CPF_CNPJ_Des', 'CTFDestino',\n",
       "       'EntJuridica_Des', 'TpDes', 'UFDestino', 'MunDestino', 'LatDestino',\n",
       "       'LongDestino', 'Autorizacao', 'TpAutorizacao', 'Produto', 'NomePopular',\n",
       "       'NomeCientifico', 'Unidade', 'Volume', 'DtEmissao', 'Ano', 'Status',\n",
       "       'NomePopularAgregado', 'datetimeDtEmissao', 'ID'],\n",
       "      dtype='object')"
      ]
     },
     "execution_count": 13,
     "metadata": {},
     "output_type": "execute_result"
    }
   ],
   "source": [
    "#  Separando os nós pelo cnpj\n",
    "transportes_junho.columns"
   ]
  },
  {
   "cell_type": "code",
   "execution_count": 14,
   "metadata": {},
   "outputs": [
    {
     "data": {
      "text/plain": [
       "0        PTO_IBAMA\n",
       "1        PTO_IBAMA\n",
       "2        PTO_IBAMA\n",
       "3        PTO_IBAMA\n",
       "4        PTO_IBAMA\n",
       "           ...    \n",
       "26533    PTO_IBAMA\n",
       "26534    PTO_IBAMA\n",
       "26535    PTO_IBAMA\n",
       "26536    PTO_IBAMA\n",
       "26537    PTO_IBAMA\n",
       "Name: TpRem, Length: 26538, dtype: object"
      ]
     },
     "execution_count": 14,
     "metadata": {},
     "output_type": "execute_result"
    }
   ],
   "source": [
    "transportes_junho['TpRem']"
   ]
  },
  {
   "cell_type": "code",
   "execution_count": 15,
   "metadata": {},
   "outputs": [
    {
     "data": {
      "text/html": [
       "<div>\n",
       "<style scoped>\n",
       "    .dataframe tbody tr th:only-of-type {\n",
       "        vertical-align: middle;\n",
       "    }\n",
       "\n",
       "    .dataframe tbody tr th {\n",
       "        vertical-align: top;\n",
       "    }\n",
       "\n",
       "    .dataframe thead th {\n",
       "        text-align: right;\n",
       "    }\n",
       "</style>\n",
       "<table border=\"1\" class=\"dataframe\">\n",
       "  <thead>\n",
       "    <tr style=\"text-align: right;\">\n",
       "      <th></th>\n",
       "      <th>CPF_CNPJ_Rem</th>\n",
       "      <th>CPF_CNPJ_Des</th>\n",
       "      <th>TpRem</th>\n",
       "      <th>TpDes</th>\n",
       "    </tr>\n",
       "  </thead>\n",
       "  <tbody>\n",
       "    <tr>\n",
       "      <th>0</th>\n",
       "      <td>72559586000130</td>\n",
       "      <td>38919389934</td>\n",
       "      <td>PTO_IBAMA</td>\n",
       "      <td>FINAL</td>\n",
       "    </tr>\n",
       "    <tr>\n",
       "      <th>1</th>\n",
       "      <td>75274423002738</td>\n",
       "      <td>07865912935</td>\n",
       "      <td>PTO_IBAMA</td>\n",
       "      <td>FINAL</td>\n",
       "    </tr>\n",
       "    <tr>\n",
       "      <th>2</th>\n",
       "      <td>1079926000187</td>\n",
       "      <td>88689433015</td>\n",
       "      <td>PTO_IBAMA</td>\n",
       "      <td>FINAL</td>\n",
       "    </tr>\n",
       "    <tr>\n",
       "      <th>3</th>\n",
       "      <td>77172161000197</td>\n",
       "      <td>25389947991</td>\n",
       "      <td>PTO_IBAMA</td>\n",
       "      <td>FINAL</td>\n",
       "    </tr>\n",
       "    <tr>\n",
       "      <th>4</th>\n",
       "      <td>85491520000105</td>\n",
       "      <td>50389521949</td>\n",
       "      <td>PTO_IBAMA</td>\n",
       "      <td>FINAL</td>\n",
       "    </tr>\n",
       "    <tr>\n",
       "      <th>...</th>\n",
       "      <td>...</td>\n",
       "      <td>...</td>\n",
       "      <td>...</td>\n",
       "      <td>...</td>\n",
       "    </tr>\n",
       "    <tr>\n",
       "      <th>26533</th>\n",
       "      <td>88817622000158</td>\n",
       "      <td>414002083</td>\n",
       "      <td>PTO_IBAMA</td>\n",
       "      <td>FINAL</td>\n",
       "    </tr>\n",
       "    <tr>\n",
       "      <th>26534</th>\n",
       "      <td>613799000191</td>\n",
       "      <td>706719077</td>\n",
       "      <td>PTO_IBAMA</td>\n",
       "      <td>FINAL</td>\n",
       "    </tr>\n",
       "    <tr>\n",
       "      <th>26535</th>\n",
       "      <td>94543717000123</td>\n",
       "      <td>29203201068</td>\n",
       "      <td>PTO_IBAMA</td>\n",
       "      <td>FINAL</td>\n",
       "    </tr>\n",
       "    <tr>\n",
       "      <th>26536</th>\n",
       "      <td>89614101000166</td>\n",
       "      <td>50714082015</td>\n",
       "      <td>PTO_IBAMA</td>\n",
       "      <td>FINAL</td>\n",
       "    </tr>\n",
       "    <tr>\n",
       "      <th>26537</th>\n",
       "      <td>16480330000161</td>\n",
       "      <td>33579148087</td>\n",
       "      <td>PTO_IBAMA</td>\n",
       "      <td>FINAL</td>\n",
       "    </tr>\n",
       "  </tbody>\n",
       "</table>\n",
       "<p>26538 rows × 4 columns</p>\n",
       "</div>"
      ],
      "text/plain": [
       "         CPF_CNPJ_Rem CPF_CNPJ_Des      TpRem  TpDes\n",
       "0      72559586000130  38919389934  PTO_IBAMA  FINAL\n",
       "1      75274423002738  07865912935  PTO_IBAMA  FINAL\n",
       "2       1079926000187  88689433015  PTO_IBAMA  FINAL\n",
       "3      77172161000197  25389947991  PTO_IBAMA  FINAL\n",
       "4      85491520000105  50389521949  PTO_IBAMA  FINAL\n",
       "...               ...          ...        ...    ...\n",
       "26533  88817622000158    414002083  PTO_IBAMA  FINAL\n",
       "26534    613799000191    706719077  PTO_IBAMA  FINAL\n",
       "26535  94543717000123  29203201068  PTO_IBAMA  FINAL\n",
       "26536  89614101000166  50714082015  PTO_IBAMA  FINAL\n",
       "26537  16480330000161  33579148087  PTO_IBAMA  FINAL\n",
       "\n",
       "[26538 rows x 4 columns]"
      ]
     },
     "execution_count": 15,
     "metadata": {},
     "output_type": "execute_result"
    }
   ],
   "source": [
    "transportes_junho[['CPF_CNPJ_Rem', 'CPF_CNPJ_Des','TpRem', 'TpDes' ]]"
   ]
  },
  {
   "cell_type": "markdown",
   "metadata": {},
   "source": [
    "Criando Nós"
   ]
  },
  {
   "cell_type": "code",
   "execution_count": 16,
   "metadata": {},
   "outputs": [
    {
     "data": {
      "text/html": [
       "<div>\n",
       "<style scoped>\n",
       "    .dataframe tbody tr th:only-of-type {\n",
       "        vertical-align: middle;\n",
       "    }\n",
       "\n",
       "    .dataframe tbody tr th {\n",
       "        vertical-align: top;\n",
       "    }\n",
       "\n",
       "    .dataframe thead th {\n",
       "        text-align: right;\n",
       "    }\n",
       "</style>\n",
       "<table border=\"1\" class=\"dataframe\">\n",
       "  <thead>\n",
       "    <tr style=\"text-align: right;\">\n",
       "      <th></th>\n",
       "      <th>CNPJ_CPF</th>\n",
       "      <th>type</th>\n",
       "      <th>source</th>\n",
       "    </tr>\n",
       "  </thead>\n",
       "  <tbody>\n",
       "    <tr>\n",
       "      <th>0</th>\n",
       "      <td>72559586000130</td>\n",
       "      <td>PTO_IBAMA</td>\n",
       "      <td>Remetente</td>\n",
       "    </tr>\n",
       "    <tr>\n",
       "      <th>1</th>\n",
       "      <td>75274423002738</td>\n",
       "      <td>PTO_IBAMA</td>\n",
       "      <td>Remetente</td>\n",
       "    </tr>\n",
       "    <tr>\n",
       "      <th>2</th>\n",
       "      <td>1079926000187</td>\n",
       "      <td>PTO_IBAMA</td>\n",
       "      <td>Remetente</td>\n",
       "    </tr>\n",
       "    <tr>\n",
       "      <th>3</th>\n",
       "      <td>77172161000197</td>\n",
       "      <td>PTO_IBAMA</td>\n",
       "      <td>Remetente</td>\n",
       "    </tr>\n",
       "    <tr>\n",
       "      <th>4</th>\n",
       "      <td>85491520000105</td>\n",
       "      <td>PTO_IBAMA</td>\n",
       "      <td>Remetente</td>\n",
       "    </tr>\n",
       "    <tr>\n",
       "      <th>...</th>\n",
       "      <td>...</td>\n",
       "      <td>...</td>\n",
       "      <td>...</td>\n",
       "    </tr>\n",
       "    <tr>\n",
       "      <th>53071</th>\n",
       "      <td>414002083</td>\n",
       "      <td>FINAL</td>\n",
       "      <td>Destinatário</td>\n",
       "    </tr>\n",
       "    <tr>\n",
       "      <th>53072</th>\n",
       "      <td>706719077</td>\n",
       "      <td>FINAL</td>\n",
       "      <td>Destinatário</td>\n",
       "    </tr>\n",
       "    <tr>\n",
       "      <th>53073</th>\n",
       "      <td>29203201068</td>\n",
       "      <td>FINAL</td>\n",
       "      <td>Destinatário</td>\n",
       "    </tr>\n",
       "    <tr>\n",
       "      <th>53074</th>\n",
       "      <td>50714082015</td>\n",
       "      <td>FINAL</td>\n",
       "      <td>Destinatário</td>\n",
       "    </tr>\n",
       "    <tr>\n",
       "      <th>53075</th>\n",
       "      <td>33579148087</td>\n",
       "      <td>FINAL</td>\n",
       "      <td>Destinatário</td>\n",
       "    </tr>\n",
       "  </tbody>\n",
       "</table>\n",
       "<p>53076 rows × 3 columns</p>\n",
       "</div>"
      ],
      "text/plain": [
       "             CNPJ_CPF       type        source\n",
       "0      72559586000130  PTO_IBAMA     Remetente\n",
       "1      75274423002738  PTO_IBAMA     Remetente\n",
       "2       1079926000187  PTO_IBAMA     Remetente\n",
       "3      77172161000197  PTO_IBAMA     Remetente\n",
       "4      85491520000105  PTO_IBAMA     Remetente\n",
       "...               ...        ...           ...\n",
       "53071       414002083      FINAL  Destinatário\n",
       "53072       706719077      FINAL  Destinatário\n",
       "53073     29203201068      FINAL  Destinatário\n",
       "53074     50714082015      FINAL  Destinatário\n",
       "53075     33579148087      FINAL  Destinatário\n",
       "\n",
       "[53076 rows x 3 columns]"
      ]
     },
     "execution_count": 16,
     "metadata": {},
     "output_type": "execute_result"
    }
   ],
   "source": [
    "rem_df = transportes_junho[['CPF_CNPJ_Rem', 'TpRem']].rename(columns={'CPF_CNPJ_Rem': 'CNPJ_CPF', 'TpRem': 'type'})\n",
    "rem_df['source'] = 'Remetente'\n",
    "\n",
    "# Criar DataFrame para CPF_CNPJ_Des e TpDes\n",
    "des_df = transportes_junho[['CPF_CNPJ_Des', 'TpDes']].rename(columns={'CPF_CNPJ_Des': 'CNPJ_CPF', 'TpDes': 'type'})\n",
    "des_df['source'] = 'Destinatário'\n",
    "\n",
    "# Concatenar ambos os DataFrames\n",
    "node_df= pd.concat([rem_df, des_df], ignore_index=True)\n",
    "node_df"
   ]
  },
  {
   "cell_type": "code",
   "execution_count": 17,
   "metadata": {},
   "outputs": [
    {
     "data": {
      "text/plain": [
       "type\n",
       "PTO_IBAMA    34453\n",
       "FINAL        18157\n",
       "MANEJO         466\n",
       "Name: count, dtype: int64"
      ]
     },
     "execution_count": 17,
     "metadata": {},
     "output_type": "execute_result"
    }
   ],
   "source": [
    "node_df['type'].value_counts()"
   ]
  },
  {
   "cell_type": "markdown",
   "metadata": {},
   "source": [
    "Criando o dataframe com as arestas"
   ]
  },
  {
   "cell_type": "code",
   "execution_count": 18,
   "metadata": {},
   "outputs": [
    {
     "data": {
      "text/plain": [
       "0        292.5\n",
       "1         18.2\n",
       "2         18.7\n",
       "3        375.0\n",
       "4        233.0\n",
       "         ...  \n",
       "26533    100.0\n",
       "26534    584.2\n",
       "26535    488.0\n",
       "26536     67.5\n",
       "26537    632.0\n",
       "Name: Volume, Length: 26538, dtype: float64"
      ]
     },
     "execution_count": 18,
     "metadata": {},
     "output_type": "execute_result"
    }
   ],
   "source": [
    "volumes_transporte_junho = transportes_junho['Volume']*1000\n",
    "volumes_transporte_junho"
   ]
  },
  {
   "cell_type": "code",
   "execution_count": 19,
   "metadata": {},
   "outputs": [
    {
     "name": "stdout",
     "output_type": "stream",
     "text": [
      "Volume Mínimo registrado em Junho: 0.0001\n",
      "Volume Máximo registrado em Junho: 73.3894\n"
     ]
    }
   ],
   "source": [
    "volume_minimo_junho = transportes_junho['Volume'].min()\n",
    "volume_maximo_junho =transportes_junho['Volume'].max()\n",
    "\n",
    "print(f\"Volume Mínimo registrado em Junho: {volume_minimo_junho}\")\n",
    "print(f\"Volume Máximo registrado em Junho: {volume_maximo_junho}\")"
   ]
  },
  {
   "cell_type": "code",
   "execution_count": 20,
   "metadata": {},
   "outputs": [],
   "source": [
    "arestas = transportes_junho[['CPF_CNPJ_Rem', 'CPF_CNPJ_Des', 'Volume']].rename(columns={'CPF_CNPJ_Rem': 'node_src', 'CPF_CNPJ_Des': 'node_des', 'Volume': 'vol'})"
   ]
  },
  {
   "cell_type": "code",
   "execution_count": 21,
   "metadata": {},
   "outputs": [
    {
     "data": {
      "text/html": [
       "<div>\n",
       "<style scoped>\n",
       "    .dataframe tbody tr th:only-of-type {\n",
       "        vertical-align: middle;\n",
       "    }\n",
       "\n",
       "    .dataframe tbody tr th {\n",
       "        vertical-align: top;\n",
       "    }\n",
       "\n",
       "    .dataframe thead th {\n",
       "        text-align: right;\n",
       "    }\n",
       "</style>\n",
       "<table border=\"1\" class=\"dataframe\">\n",
       "  <thead>\n",
       "    <tr style=\"text-align: right;\">\n",
       "      <th></th>\n",
       "      <th>node_src</th>\n",
       "      <th>node_des</th>\n",
       "      <th>vol</th>\n",
       "    </tr>\n",
       "  </thead>\n",
       "  <tbody>\n",
       "    <tr>\n",
       "      <th>0</th>\n",
       "      <td>72559586000130</td>\n",
       "      <td>38919389934</td>\n",
       "      <td>0.2925</td>\n",
       "    </tr>\n",
       "    <tr>\n",
       "      <th>1</th>\n",
       "      <td>75274423002738</td>\n",
       "      <td>07865912935</td>\n",
       "      <td>0.0182</td>\n",
       "    </tr>\n",
       "    <tr>\n",
       "      <th>2</th>\n",
       "      <td>1079926000187</td>\n",
       "      <td>88689433015</td>\n",
       "      <td>0.0187</td>\n",
       "    </tr>\n",
       "    <tr>\n",
       "      <th>3</th>\n",
       "      <td>77172161000197</td>\n",
       "      <td>25389947991</td>\n",
       "      <td>0.3750</td>\n",
       "    </tr>\n",
       "    <tr>\n",
       "      <th>4</th>\n",
       "      <td>85491520000105</td>\n",
       "      <td>50389521949</td>\n",
       "      <td>0.2330</td>\n",
       "    </tr>\n",
       "    <tr>\n",
       "      <th>...</th>\n",
       "      <td>...</td>\n",
       "      <td>...</td>\n",
       "      <td>...</td>\n",
       "    </tr>\n",
       "    <tr>\n",
       "      <th>26533</th>\n",
       "      <td>88817622000158</td>\n",
       "      <td>414002083</td>\n",
       "      <td>0.1000</td>\n",
       "    </tr>\n",
       "    <tr>\n",
       "      <th>26534</th>\n",
       "      <td>613799000191</td>\n",
       "      <td>706719077</td>\n",
       "      <td>0.5842</td>\n",
       "    </tr>\n",
       "    <tr>\n",
       "      <th>26535</th>\n",
       "      <td>94543717000123</td>\n",
       "      <td>29203201068</td>\n",
       "      <td>0.4880</td>\n",
       "    </tr>\n",
       "    <tr>\n",
       "      <th>26536</th>\n",
       "      <td>89614101000166</td>\n",
       "      <td>50714082015</td>\n",
       "      <td>0.0675</td>\n",
       "    </tr>\n",
       "    <tr>\n",
       "      <th>26537</th>\n",
       "      <td>16480330000161</td>\n",
       "      <td>33579148087</td>\n",
       "      <td>0.6320</td>\n",
       "    </tr>\n",
       "  </tbody>\n",
       "</table>\n",
       "<p>26538 rows × 3 columns</p>\n",
       "</div>"
      ],
      "text/plain": [
       "             node_src     node_des     vol\n",
       "0      72559586000130  38919389934  0.2925\n",
       "1      75274423002738  07865912935  0.0182\n",
       "2       1079926000187  88689433015  0.0187\n",
       "3      77172161000197  25389947991  0.3750\n",
       "4      85491520000105  50389521949  0.2330\n",
       "...               ...          ...     ...\n",
       "26533  88817622000158    414002083  0.1000\n",
       "26534    613799000191    706719077  0.5842\n",
       "26535  94543717000123  29203201068  0.4880\n",
       "26536  89614101000166  50714082015  0.0675\n",
       "26537  16480330000161  33579148087  0.6320\n",
       "\n",
       "[26538 rows x 3 columns]"
      ]
     },
     "execution_count": 21,
     "metadata": {},
     "output_type": "execute_result"
    }
   ],
   "source": [
    "arestas"
   ]
  },
  {
   "cell_type": "code",
   "execution_count": 22,
   "metadata": {},
   "outputs": [
    {
     "ename": "NameError",
     "evalue": "name 'tqdm' is not defined",
     "output_type": "error",
     "traceback": [
      "\u001b[1;31m---------------------------------------------------------------------------\u001b[0m",
      "\u001b[1;31mNameError\u001b[0m                                 Traceback (most recent call last)",
      "Cell \u001b[1;32mIn[22], line 1\u001b[0m\n\u001b[1;32m----> 1\u001b[0m graph \u001b[38;5;241m=\u001b[39m \u001b[43mcreate_graph\u001b[49m\u001b[43m(\u001b[49m\u001b[43marestas\u001b[49m\u001b[43m)\u001b[49m\n",
      "Cell \u001b[1;32mIn[4], line 8\u001b[0m, in \u001b[0;36mcreate_graph\u001b[1;34m(transports)\u001b[0m\n\u001b[0;32m      5\u001b[0m graph \u001b[38;5;241m=\u001b[39m {}\n\u001b[0;32m      7\u001b[0m \u001b[38;5;66;03m# Creating the graph with the list of transports\u001b[39;00m\n\u001b[1;32m----> 8\u001b[0m \u001b[38;5;28;01mfor\u001b[39;00m i,transport \u001b[38;5;129;01min\u001b[39;00m \u001b[43mtqdm\u001b[49m(transports\u001b[38;5;241m.\u001b[39miterrows()):\n\u001b[0;32m      9\u001b[0m     id_emp_orig \u001b[38;5;241m=\u001b[39m transport[\u001b[38;5;124m'\u001b[39m\u001b[38;5;124mnode_src\u001b[39m\u001b[38;5;124m'\u001b[39m]\n\u001b[0;32m     10\u001b[0m     id_emp_dest \u001b[38;5;241m=\u001b[39m transport[\u001b[38;5;124m'\u001b[39m\u001b[38;5;124mnode_dest\u001b[39m\u001b[38;5;124m'\u001b[39m]\n",
      "\u001b[1;31mNameError\u001b[0m: name 'tqdm' is not defined"
     ]
    }
   ],
   "source": [
    "graph = create_graph(arestas)"
   ]
  },
  {
   "cell_type": "code",
   "execution_count": null,
   "metadata": {},
   "outputs": [],
   "source": []
  }
 ],
 "metadata": {
  "kernelspec": {
   "display_name": "Python 3",
   "language": "python",
   "name": "python3"
  },
  "language_info": {
   "codemirror_mode": {
    "name": "ipython",
    "version": 3
   },
   "file_extension": ".py",
   "mimetype": "text/x-python",
   "name": "python",
   "nbconvert_exporter": "python",
   "pygments_lexer": "ipython3",
   "version": "3.12.7"
  }
 },
 "nbformat": 4,
 "nbformat_minor": 2
}
